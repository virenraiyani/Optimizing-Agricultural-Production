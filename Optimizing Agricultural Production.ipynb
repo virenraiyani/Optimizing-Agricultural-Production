{
 "cells": [
  {
   "cell_type": "code",
   "execution_count": 1,
   "id": "8466ec07",
   "metadata": {},
   "outputs": [
    {
     "data": {
      "text/plain": [
       "'C:\\\\Users\\\\VIREN\\\\Desktop'"
      ]
     },
     "execution_count": 1,
     "metadata": {},
     "output_type": "execute_result"
    }
   ],
   "source": [
    "pwd"
   ]
  },
  {
   "cell_type": "code",
   "execution_count": 2,
   "id": "e64e98d9",
   "metadata": {},
   "outputs": [
    {
     "name": "stdout",
     "output_type": "stream",
     "text": [
      " Volume in drive C is WIN 10\n",
      " Volume Serial Number is B634-FD98\n",
      "\n",
      " Directory of C:\\Users\\VIREN\\Desktop\n",
      "\n",
      "26-09-2022  05:40 PM    <DIR>          .\n",
      "26-09-2022  05:40 PM    <DIR>          ..\n",
      "26-09-2022  09:49 AM    <DIR>          .ipynb_checkpoints\n",
      "25-09-2022  11:22 AM         1,073,292 Bank Telemarketing Project.ipynb\n",
      "20-09-2022  10:00 AM           684,858 Churn_Modelling.csv\n",
      "26-09-2022  08:46 AM           124,928 Concrete_Data.xls\n",
      "22-09-2022  10:06 PM            21,928 Cover Letter_Viren.docx\n",
      "24-09-2022  02:24 PM            27,371 Credit Card Fraud Detection Project.ipynb\n",
      "10-09-2022  06:40 PM       102,919,038 CreditCard_data.csv\n",
      "26-09-2022  09:31 AM           144,837 Crop_recommendation.csv\n",
      "20-09-2022  11:46 PM         1,555,087 Customer_churn_prediction.ipynb\n",
      "11-08-2022  10:17 AM           208,085 E_Commerce Analytics - RMF method_updated.ipynb\n",
      "07-06-2022  10:47 AM        27,016,116 E-com_Data.xlsx\n",
      "11-08-2022  10:17 AM           240,001 Final_output.xlsx\n",
      "26-08-2022  06:19 PM           138,377 GSRTC_ticket.pdf\n",
      "14-09-2022  05:50 PM           266,065 Hotel Demand Prediction Project.ipynb\n",
      "25-09-2022  01:03 PM               502 learnbay social media platform links.txt\n",
      "11-08-2022  10:08 AM             2,358 Microsoft Edge.lnk\n",
      "25-09-2022  11:33 AM             2,353 MongoDBCompass.lnk\n",
      "26-09-2022  05:40 PM            18,064 Optimizing Agricultural Production.ipynb\n",
      "29-08-2022  10:24 AM            15,087 ORGANIZATIONAL BEHAVIOUR.docx\n",
      "14-09-2022  05:35 PM           442,606 Predicting cab booking cancellations for YourCabs.ipynb\n",
      "14-09-2022  11:10 AM            85,741 QualityPrediction.csv\n",
      "20-09-2022  09:18 AM            28,665 Resume_Urvashi_22.docx\n",
      "25-09-2022  10:26 AM            26,536 Resume_Viren.docx\n",
      "24-09-2022  10:22 AM            34,426 submission.csv\n",
      "21-09-2022  09:26 AM            41,247 Viren_Resume.docx\n",
      "31-07-2022  11:29 PM             1,410 Visual Studio Code.lnk\n",
      "14-09-2022  10:50 AM           329,329 Wine Quality prediction.ipynb\n",
      "              26 File(s)    135,448,307 bytes\n",
      "               3 Dir(s)  54,754,775,040 bytes free\n"
     ]
    }
   ],
   "source": [
    "ls"
   ]
  },
  {
   "cell_type": "code",
   "execution_count": 3,
   "id": "16fff093",
   "metadata": {},
   "outputs": [],
   "source": [
    "# for manupulation\n",
    "import numpy as np\n",
    "import pandas as pd\n",
    "\n",
    "# for data visualizations\n",
    "import matplotlib.pyplot as plt\n",
    "import seaborn as sns\n",
    "\n",
    "# for interactivity\n",
    "from ipywidgets import interact\n",
    "import warnings \n",
    "warnings.filterwarnings(\"ignore\")"
   ]
  },
  {
   "cell_type": "code",
   "execution_count": 4,
   "id": "e447f564",
   "metadata": {},
   "outputs": [],
   "source": [
    "# Lets read the dataset\n",
    "data = pd.read_csv(\"Crop_recommendation.csv\")"
   ]
  },
  {
   "cell_type": "code",
   "execution_count": 5,
   "id": "09622e17",
   "metadata": {},
   "outputs": [
    {
     "name": "stdout",
     "output_type": "stream",
     "text": [
      "Shape of Dataset: (2200, 8)\n"
     ]
    }
   ],
   "source": [
    "# Lets check the shape of data frame\n",
    "print(\"Shape of Dataset:\", data.shape)"
   ]
  },
  {
   "cell_type": "code",
   "execution_count": 6,
   "id": "4d8b141a",
   "metadata": {},
   "outputs": [
    {
     "data": {
      "text/html": [
       "<div>\n",
       "<style scoped>\n",
       "    .dataframe tbody tr th:only-of-type {\n",
       "        vertical-align: middle;\n",
       "    }\n",
       "\n",
       "    .dataframe tbody tr th {\n",
       "        vertical-align: top;\n",
       "    }\n",
       "\n",
       "    .dataframe thead th {\n",
       "        text-align: right;\n",
       "    }\n",
       "</style>\n",
       "<table border=\"1\" class=\"dataframe\">\n",
       "  <thead>\n",
       "    <tr style=\"text-align: right;\">\n",
       "      <th></th>\n",
       "      <th>N</th>\n",
       "      <th>P</th>\n",
       "      <th>K</th>\n",
       "      <th>temperature</th>\n",
       "      <th>humidity</th>\n",
       "      <th>ph</th>\n",
       "      <th>rainfall</th>\n",
       "      <th>label</th>\n",
       "    </tr>\n",
       "  </thead>\n",
       "  <tbody>\n",
       "    <tr>\n",
       "      <th>0</th>\n",
       "      <td>90</td>\n",
       "      <td>42</td>\n",
       "      <td>43</td>\n",
       "      <td>20.879744</td>\n",
       "      <td>82.002744</td>\n",
       "      <td>6.502985</td>\n",
       "      <td>202.935536</td>\n",
       "      <td>rice</td>\n",
       "    </tr>\n",
       "    <tr>\n",
       "      <th>1</th>\n",
       "      <td>85</td>\n",
       "      <td>58</td>\n",
       "      <td>41</td>\n",
       "      <td>21.770462</td>\n",
       "      <td>80.319644</td>\n",
       "      <td>7.038096</td>\n",
       "      <td>226.655537</td>\n",
       "      <td>rice</td>\n",
       "    </tr>\n",
       "    <tr>\n",
       "      <th>2</th>\n",
       "      <td>60</td>\n",
       "      <td>55</td>\n",
       "      <td>44</td>\n",
       "      <td>23.004459</td>\n",
       "      <td>82.320763</td>\n",
       "      <td>7.840207</td>\n",
       "      <td>263.964248</td>\n",
       "      <td>rice</td>\n",
       "    </tr>\n",
       "    <tr>\n",
       "      <th>3</th>\n",
       "      <td>74</td>\n",
       "      <td>35</td>\n",
       "      <td>40</td>\n",
       "      <td>26.491096</td>\n",
       "      <td>80.158363</td>\n",
       "      <td>6.980401</td>\n",
       "      <td>242.864034</td>\n",
       "      <td>rice</td>\n",
       "    </tr>\n",
       "    <tr>\n",
       "      <th>4</th>\n",
       "      <td>78</td>\n",
       "      <td>42</td>\n",
       "      <td>42</td>\n",
       "      <td>20.130175</td>\n",
       "      <td>81.604873</td>\n",
       "      <td>7.628473</td>\n",
       "      <td>262.717340</td>\n",
       "      <td>rice</td>\n",
       "    </tr>\n",
       "  </tbody>\n",
       "</table>\n",
       "</div>"
      ],
      "text/plain": [
       "    N   P   K  temperature   humidity        ph    rainfall label\n",
       "0  90  42  43    20.879744  82.002744  6.502985  202.935536  rice\n",
       "1  85  58  41    21.770462  80.319644  7.038096  226.655537  rice\n",
       "2  60  55  44    23.004459  82.320763  7.840207  263.964248  rice\n",
       "3  74  35  40    26.491096  80.158363  6.980401  242.864034  rice\n",
       "4  78  42  42    20.130175  81.604873  7.628473  262.717340  rice"
      ]
     },
     "execution_count": 6,
     "metadata": {},
     "output_type": "execute_result"
    }
   ],
   "source": [
    "# Lets check the head of the dataset\n",
    "data.head()"
   ]
  },
  {
   "cell_type": "code",
   "execution_count": 7,
   "id": "eacfbaf6",
   "metadata": {},
   "outputs": [
    {
     "data": {
      "text/plain": [
       "N              0\n",
       "P              0\n",
       "K              0\n",
       "temperature    0\n",
       "humidity       0\n",
       "ph             0\n",
       "rainfall       0\n",
       "label          0\n",
       "dtype: int64"
      ]
     },
     "execution_count": 7,
     "metadata": {},
     "output_type": "execute_result"
    }
   ],
   "source": [
    "# lets check if there is any missing value present in the dataset\n",
    "data.isnull().sum()"
   ]
  },
  {
   "cell_type": "code",
   "execution_count": 8,
   "id": "edb40a57",
   "metadata": {},
   "outputs": [
    {
     "data": {
      "text/plain": [
       "rice           100\n",
       "maize          100\n",
       "jute           100\n",
       "cotton         100\n",
       "coconut        100\n",
       "papaya         100\n",
       "orange         100\n",
       "apple          100\n",
       "muskmelon      100\n",
       "watermelon     100\n",
       "grapes         100\n",
       "mango          100\n",
       "banana         100\n",
       "pomegranate    100\n",
       "lentil         100\n",
       "blackgram      100\n",
       "mungbean       100\n",
       "mothbeans      100\n",
       "pigeonpeas     100\n",
       "kidneybeans    100\n",
       "chickpea       100\n",
       "coffee         100\n",
       "Name: label, dtype: int64"
      ]
     },
     "execution_count": 8,
     "metadata": {},
     "output_type": "execute_result"
    }
   ],
   "source": [
    "# lets check the crops present in the dataset\n",
    "data['label'].value_counts()"
   ]
  },
  {
   "cell_type": "code",
   "execution_count": 9,
   "id": "4ed94bd7",
   "metadata": {},
   "outputs": [
    {
     "name": "stdout",
     "output_type": "stream",
     "text": [
      "Average ratio of Nitrogen in soil: 50.55\n",
      "Average ratio of Phosphorous in soil: 53.36\n",
      "Average ratio of Potassium in soil: 48.15\n",
      "Average Temperature in celcius: 25.62\n",
      "Average Relative Humidity in %: 71.48\n",
      "Average PH Value in soil : 6.47\n",
      "Average Rainfall in mm : 103.46\n"
     ]
    }
   ],
   "source": [
    "# Lets check the summery for all crops\n",
    "print(\"Average ratio of Nitrogen in soil: {0:.2f}\".format(data['N'].mean()))\n",
    "print(\"Average ratio of Phosphorous in soil: {0:.2f}\".format(data['P'].mean()))\n",
    "print(\"Average ratio of Potassium in soil: {0:.2f}\".format(data['K'].mean()))\n",
    "print(\"Average Temperature in celcius: {0:.2f}\".format(data['temperature'].mean()))\n",
    "print(\"Average Relative Humidity in %: {0:.2f}\".format(data['humidity'].mean()))\n",
    "print(\"Average PH Value in soil : {0:.2f}\".format(data['ph'].mean()))\n",
    "print(\"Average Rainfall in mm : {0:.2f}\".format(data['rainfall'].mean()))"
   ]
  },
  {
   "cell_type": "code",
   "execution_count": 10,
   "id": "b932990e",
   "metadata": {},
   "outputs": [
    {
     "data": {
      "application/vnd.jupyter.widget-view+json": {
       "model_id": "0e04b3f0eeb143929d49795ee87018f5",
       "version_major": 2,
       "version_minor": 0
      },
      "text/plain": [
       "interactive(children=(Dropdown(description='crops', options=('rice', 'maize', 'jute', 'cotton', 'coconut', 'pa…"
      ]
     },
     "metadata": {},
     "output_type": "display_data"
    }
   ],
   "source": [
    "# Lets check the summary statistics for each of the crop\n",
    "\n",
    "@interact\n",
    "def summary(crops = list(data['label'].value_counts().index)):\n",
    "    x = data[data['label'] == crops]\n",
    "    print(\"-----------------------------------------\")\n",
    "    print(\"Statistics for Nitrogen\")\n",
    "    print(\"Minimum Nitrogen Required:\", x['N'].min())\n",
    "    print(\"Average Nitrogen Required:\", x['N'].mean())\n",
    "    print(\"Maximum Nitrogen Required:\", x['N'].max())\n",
    "    print(\"-----------------------------------------\")\n",
    "    print(\"Statistics for Phosphorous\")\n",
    "    print(\"Minimum Phosphorous Required:\", x['P'].min())\n",
    "    print(\"Average Phosphorous Required:\", x['P'].mean())\n",
    "    print(\"Maximum Phosphorous Required:\", x['P'].max())\n",
    "    print(\"-----------------------------------------\")\n",
    "    print(\"Statistics for Potassium\")\n",
    "    print(\"Minimum Potassium Required:\", x['K'].min())\n",
    "    print(\"Average Potassium Required:\", x['K'].mean())\n",
    "    print(\"Maximum Potassium Required:\", x['K'].max())\n",
    "    print(\"-----------------------------------------\")\n",
    "    print(\"Statistics for Temperature\")\n",
    "    print(\"Minimum Temperature Required: {0:.2f}\".format(x['temperature'].min()))\n",
    "    print(\"Average Temperature Required: {0:.2f}\".format(x['temperature'].mean()))\n",
    "    print(\"Maximum Temperature Required: {0:.2f}\".format(x['temperature'].max()))\n",
    "    print(\"-----------------------------------------\")\n",
    "    print(\"Statistics for Humidity\")\n",
    "    print(\"Minimum Humidity Required: {0:.2f}\".format(x['humidity'].min()))\n",
    "    print(\"Average Humidity Required: {0:.2f}\".format(x['humidity'].mean()))\n",
    "    print(\"Maximum Humidity Required: {0:.2f}\".format(x['humidity'].max()))\n",
    "    print(\"-----------------------------------------\")\n",
    "    print(\"Statistics for PH\")\n",
    "    print(\"Minimum PH Required: {0:.2f}\".format(x['ph'].min()))\n",
    "    print(\"Average PH Required: {0:.2f}\".format(x['ph'].mean()))\n",
    "    print(\"Maximum PH Required: {0:.2f}\".format(x['ph'].max()))\n",
    "    print(\"-----------------------------------------\")\n",
    "    print(\"Statistics for Rainfall\")\n",
    "    print(\"Minimum Rainfall Required: {0:.2f}\".format(x['rainfall'].min()))\n",
    "    print(\"Average Rainfall Required: {0:.2f}\".format(x['rainfall'].mean()))\n",
    "    print(\"Maximum Rainfall Required: {0:.2f}\".format(x['rainfall'].max()))"
   ]
  },
  {
   "cell_type": "code",
   "execution_count": 11,
   "id": "18396cc2",
   "metadata": {},
   "outputs": [
    {
     "data": {
      "application/vnd.jupyter.widget-view+json": {
       "model_id": "bd17cf3e86d24043a020ff8901cc27ba",
       "version_major": 2,
       "version_minor": 0
      },
      "text/plain": [
       "interactive(children=(Dropdown(description='conditions', options=('N', 'P', 'K', 'temperature', 'humidity', 'p…"
      ]
     },
     "metadata": {},
     "output_type": "display_data"
    }
   ],
   "source": [
    "# Lets compare the average requirement of each crops with average conditions\n",
    "\n",
    "@interact\n",
    "\n",
    "def compare(conditions = ['N','P','K','temperature','humidity','ph','rainfall']):\n",
    "    print(\"Average value for\", conditions, \"is {0:.2f}\".format(data[conditions].mean()))\n",
    "    print(\"-------------------------------------------------------------------------\")\n",
    "    print(\"Rice: {0:.2f}\".format(data[(data['label'] == 'rice')][conditions].mean()))\n",
    "    print(\"Maize: {0:.2f}\".format(data[(data['label'] == 'maize')][conditions].mean()))\n",
    "    print(\"Jute: {0:.2f}\".format(data[(data['label'] == 'jute')][conditions].mean()))\n",
    "    print(\"Cotton: {0:.2f}\".format(data[(data['label'] == 'cotton')][conditions].mean()))\n",
    "    print(\"Coconut: {0:.2f}\".format(data[(data['label'] == 'coconut')][conditions].mean()))\n",
    "    print(\"Papaya: {0:.2f}\".format(data[(data['label'] == 'papaya')][conditions].mean()))\n",
    "    print(\"Orange: {0:.2f}\".format(data[(data['label'] == 'orange')][conditions].mean()))\n",
    "    print(\"Apple: {0:.2f}\".format(data[(data['label'] == 'apple')][conditions].mean()))\n",
    "    print(\"Muskmelon: {0:.2f}\".format(data[(data['label'] == 'muskmelon')][conditions].mean()))\n",
    "    print(\"Watermelon: {0:.2f}\".format(data[(data['label'] == 'watermelon')][conditions].mean()))\n",
    "    print(\"Grapes: {0:.2f}\".format(data[(data['label'] == 'grapes')][conditions].mean()))\n",
    "    print(\"Mango: {0:.2f}\".format(data[(data['label'] == 'mango')][conditions].mean()))\n",
    "    print(\"Banana: {0:.2f}\".format(data[(data['label'] == 'banana')][conditions].mean()))\n",
    "    print(\"Pomegranate: {0:,.2f}\".format(data[(data['label'] == 'pomegranate')][conditions].mean()))\n",
    "    print(\"Lentil: {0:.2f}\".format(data[(data['label'] == 'lentil')][conditions].mean()))\n",
    "    print(\"Backgram: {0:.2f}\".format(data[(data['label'] == 'blackgram')][conditions].mean()))\n",
    "    print(\"Mungbean: {0:.2f}\".format(data[(data['label'] == 'mungbean')][conditions].mean()))\n",
    "    print(\"Mothbean: {0:.2f}\".format(data[(data['label'] == 'mothbeans')][conditions].mean()))\n",
    "    print(\"Pigeonpeas: {0:.2f}\".format(data[(data['label'] == 'pigeonpeas')][conditions].mean()))\n",
    "    print(\"Kidneybeans: {0:.2f}\".format(data[(data['label'] == 'kidneybeans')][conditions].mean()))\n",
    "    print(\"Chickpea: {0:.2f}\".format(data[(data['label'] == 'chickpea')][conditions].mean()))\n",
    "    print(\"Coffee: {0:.2f}\".format(data[(data['label'] == 'coffee')][conditions].mean()))"
   ]
  },
  {
   "cell_type": "code",
   "execution_count": 12,
   "id": "afa0a6a7",
   "metadata": {},
   "outputs": [
    {
     "data": {
      "application/vnd.jupyter.widget-view+json": {
       "model_id": "cf0b47d54766460083224c3de5872efe",
       "version_major": 2,
       "version_minor": 0
      },
      "text/plain": [
       "interactive(children=(Dropdown(description='conditions', options=('N', 'P', 'K', 'temperature', 'humidity', 'p…"
      ]
     },
     "metadata": {},
     "output_type": "display_data"
    }
   ],
   "source": [
    "# lets see this function more inuitive\n",
    "\n",
    "@interact\n",
    "def compare(conditions = ['N','P','K','temperature','humidity','ph','rainfall']):\n",
    "    print(\"Crops which requires greater than average:\", conditions, \"\\n\")\n",
    "    print(data[data[conditions] > data[conditions].mean()]['label'].unique())\n",
    "    print(\"----------------------------------------------------------------\")\n",
    "    print(\"Crops which requires less than average:\", conditions, \"\\n\")\n",
    "    print(data[data[conditions] <= data[conditions].mean()]['label'].unique())"
   ]
  },
  {
   "cell_type": "code",
   "execution_count": 13,
   "id": "45ffc1c2",
   "metadata": {},
   "outputs": [
    {
     "data": {
      "image/png": "[encoded data removed]",
      "text/plain": [
       "<Figure size 432x288 with 7 Axes>"
      ]
     },
     "metadata": {
      "needs_background": "light"
     },
     "output_type": "display_data"
    }
   ],
   "source": [
    "plt.subplot(2, 4, 1)\n",
    "sns.distplot(data['N'], color = \"darkblue\")\n",
    "plt.xlabel(\"Ratio of Nitrogen\", fontsize = 12)\n",
    "plt.grid()\n",
    "\n",
    "plt.subplot(2, 4, 2)\n",
    "sns.distplot(data['P'], color = \"lightgreen\")\n",
    "plt.xlabel(\"Ratio of Phosphorous\", fontsize = 12)\n",
    "plt.grid()\n",
    "\n",
    "plt.subplot(2, 4, 3)\n",
    "sns.distplot(data['K'], color = \"yellow\")\n",
    "plt.xlabel(\"Ratio of Potassium\", fontsize = 12)\n",
    "plt.grid()\n",
    "\n",
    "plt.subplot(2, 4, 4)\n",
    "sns.distplot(data['temperature'], color = \"black\")\n",
    "plt.xlabel(\"Temperature\", fontsize = 12)\n",
    "plt.grid()\n",
    "\n",
    "plt.subplot(2, 4, 5)\n",
    "sns.distplot(data['humidity'], color = \"lightgreen\")\n",
    "plt.xlabel(\"Humidity\", fontsize = 12)\n",
    "plt.grid()\n",
    "\n",
    "plt.subplot(2, 4, 6)\n",
    "sns.distplot(data['ph'], color = \"darkblue\")\n",
    "plt.xlabel(\"PH Level\", fontsize = 12)\n",
    "plt.grid()\n",
    "\n",
    "plt.subplot(2, 4, 7)\n",
    "sns.distplot(data['rainfall'], color = \"grey\")\n",
    "plt.xlabel(\"Rainfall\", fontsize = 12)\n",
    "plt.grid()\n",
    "\n",
    "plt.suptitle(\"Distribution for Agricultural conditions\", fontsize = 20)\n",
    "plt.show()"
   ]
  },
  {
   "cell_type": "code",
   "execution_count": 14,
   "id": "1b2a9e3d",
   "metadata": {},
   "outputs": [
    {
     "name": "stdout",
     "output_type": "stream",
     "text": [
      "Some interesting Patterns:\n",
      "------------------------------------------\n",
      "Crops that require very high Ratio of Nitrogen content in soil: ['cotton']\n",
      "Crops that require very high Ratio of Phosphorous content in soil: ['grapes' 'apple']\n",
      "Crops that require very high Ratio of Potassium content in soil: ['grapes' 'apple']\n",
      "Crops that require very high Rainfall: ['rice' 'papaya' 'coconut']\n",
      "Crops that require very low Temperature: ['grapes']\n",
      "Crops that require very High Temperature: ['grapes' 'papaya']\n",
      "Crops that require very low Humidity: ['chickpea' 'kidneybeans']\n",
      "Crops that require very low PH: ['mothbeans']\n",
      "Crops that require very high PH: ['mothbeans']\n"
     ]
    }
   ],
   "source": [
    "# lets find some interesting facts\n",
    "\n",
    "print(\"Some interesting Patterns:\")\n",
    "print(\"------------------------------------------\")\n",
    "print(\"Crops that require very high Ratio of Nitrogen content in soil:\", data[data['N']>120]['label'].unique())\n",
    "print(\"Crops that require very high Ratio of Phosphorous content in soil:\", data[data['P']>100]['label'].unique())\n",
    "print(\"Crops that require very high Ratio of Potassium content in soil:\", data[data['K']>200]['label'].unique())\n",
    "print(\"Crops that require very high Rainfall:\", data[data['rainfall']>200]['label'].unique())\n",
    "print(\"Crops that require very low Temperature:\", data[data['temperature']<10]['label'].unique())\n",
    "print(\"Crops that require very High Temperature:\", data[data['temperature']>40]['label'].unique())\n",
    "print(\"Crops that require very low Humidity:\", data[data['humidity']<20]['label'].unique())\n",
    "print(\"Crops that require very low PH:\", data[data['ph']<4]['label'].unique())\n",
    "print(\"Crops that require very high PH:\", data[data['ph']>9]['label'].unique())"
   ]
  },
  {
   "cell_type": "code",
   "execution_count": 15,
   "id": "d101fb0f",
   "metadata": {},
   "outputs": [
    {
     "name": "stdout",
     "output_type": "stream",
     "text": [
      "Summer Crops\n",
      "['pigeonpeas' 'mothbeans' 'blackgram' 'mango' 'grapes' 'orange' 'papaya']\n",
      "----------------------------------------------------------------------\n",
      "Winter Crops\n",
      "['maize' 'pigeonpeas' 'lentil' 'pomegranate' 'grapes' 'orange']\n",
      "----------------------------------------------------------------------\n",
      "Rainy Crops\n",
      "['rice' 'papaya' 'coconut']\n"
     ]
    }
   ],
   "source": [
    "# Lets understand which crops can be grown in winter, summer and winter\n",
    "\n",
    "print(\"Summer Crops\")\n",
    "print(data[(data['temperature']>30) & (data['humidity']>50)]['label'].unique())\n",
    "print(\"----------------------------------------------------------------------\")\n",
    "print(\"Winter Crops\")\n",
    "print(data[(data['temperature']<20) & (data['humidity']>30)]['label'].unique())\n",
    "print(\"----------------------------------------------------------------------\")\n",
    "print(\"Rainy Crops\")\n",
    "print(data[(data['rainfall']>200) & (data['humidity']>30)]['label'].unique())"
   ]
  },
  {
   "cell_type": "code",
   "execution_count": 16,
   "id": "1370e3bc",
   "metadata": {},
   "outputs": [
    {
     "data": {
      "text/plain": [
       "(2200, 7)"
      ]
     },
     "execution_count": 16,
     "metadata": {},
     "output_type": "execute_result"
    }
   ],
   "source": [
    "from sklearn.cluster import KMeans\n",
    "\n",
    "# removing the labels column\n",
    "x = data.drop(['label'],axis = 1)\n",
    "\n",
    "# checking the shape\n",
    "x.shape"
   ]
  },
  {
   "cell_type": "code",
   "execution_count": 17,
   "id": "69ca5e73",
   "metadata": {},
   "outputs": [
    {
     "data": {
      "image/png": "[encoded data removed]",
      "text/plain": [
       "<Figure size 720x288 with 1 Axes>"
      ]
     },
     "metadata": {
      "needs_background": "light"
     },
     "output_type": "display_data"
    }
   ],
   "source": [
    "# Lets determine the optimum number of clusters within the dataset\n",
    "\n",
    "plt.rcParams['figure.figsize'] = (10,4)\n",
    "\n",
    "wcss = []\n",
    "for i in range(1,11):\n",
    "    km = KMeans(n_clusters = i, init = 'k-means++', max_iter=300, n_init=10, random_state=0)\n",
    "    km.fit_transform(x)\n",
    "    wcss.append(km.inertia_)\n",
    "\n",
    "# Lets plot the results\n",
    "plt.plot(range(1,11), wcss)\n",
    "plt.title(\"The Elbow method:\", fontsize = 20)\n",
    "plt.xlabel(\"No. of Clusters\")\n",
    "plt.ylabel(\"wcss\")\n",
    "plt.show()"
   ]
  },
  {
   "cell_type": "code",
   "execution_count": 18,
   "id": "9311cd33",
   "metadata": {},
   "outputs": [
    {
     "name": "stdout",
     "output_type": "stream",
     "text": [
      "Lets check the results after applying K-Means clustering Analysis \n",
      "\n",
      "Crops in the first cluster: ['maize' 'chickpea' 'kidneybeans' 'pigeonpeas' 'mothbeans' 'mungbean'\n",
      " 'blackgram' 'lentil' 'pomegranate' 'mango' 'orange' 'papaya' 'coconut']\n",
      "--------------------------------------------------------------------\n",
      "Lets check the results after applying K-Means clustering Analysis \n",
      "\n",
      "Crops in the Second cluster: ['maize' 'banana' 'watermelon' 'muskmelon' 'papaya' 'cotton' 'coffee']\n",
      "--------------------------------------------------------------------\n",
      "Lets check the results after applying K-Means clustering Analysis \n",
      "\n",
      "Crops in the Third cluster: ['grapes' 'apple']\n",
      "--------------------------------------------------------------------\n",
      "Lets check the results after applying K-Means clustering Analysis \n",
      "\n",
      "Crops in the Fourth cluster: ['rice' 'pigeonpeas' 'papaya' 'coconut' 'jute' 'coffee']\n"
     ]
    }
   ],
   "source": [
    "# Lets implement the K-means algoritham to perform Clustering analysis\n",
    "km = KMeans(n_clusters = 4, init = 'k-means++', max_iter=300, n_init=10, random_state=0)\n",
    "y_means = km.fit_predict(x)\n",
    "\n",
    "# Lets find the results\n",
    "a = data['label']\n",
    "y_means = pd.DataFrame(y_means)\n",
    "z = pd.concat([y_means, a], axis = 1)\n",
    "z = z.rename(columns = {0: 'cluster'})\n",
    "\n",
    "# Lets check the clusters of each crops\n",
    "print(\"Lets check the results after applying K-Means clustering Analysis \\n\")\n",
    "print(\"Crops in the first cluster:\", z[z['cluster'] == 0]['label'].unique())\n",
    "print(\"--------------------------------------------------------------------\")\n",
    "print(\"Lets check the results after applying K-Means clustering Analysis \\n\")\n",
    "print(\"Crops in the Second cluster:\", z[z['cluster'] == 1]['label'].unique())\n",
    "print(\"--------------------------------------------------------------------\")\n",
    "print(\"Lets check the results after applying K-Means clustering Analysis \\n\")\n",
    "print(\"Crops in the Third cluster:\", z[z['cluster'] == 2]['label'].unique())\n",
    "print(\"--------------------------------------------------------------------\")\n",
    "print(\"Lets check the results after applying K-Means clustering Analysis \\n\")\n",
    "print(\"Crops in the Fourth cluster:\", z[z['cluster'] == 3]['label'].unique())"
   ]
  },
  {
   "cell_type": "code",
   "execution_count": 19,
   "id": "8c0df344",
   "metadata": {},
   "outputs": [
    {
     "name": "stdout",
     "output_type": "stream",
     "text": [
      "Shape of X: (2200, 7)\n",
      "Shape of Y: (2200,)\n"
     ]
    }
   ],
   "source": [
    "# Lets split the dataset for predictive model\n",
    "y = data['label']\n",
    "x = data.drop(['label'], axis=1)\n",
    "\n",
    "print(\"Shape of X:\", x.shape)\n",
    "print(\"Shape of Y:\", y.shape)"
   ]
  },
  {
   "cell_type": "code",
   "execution_count": 20,
   "id": "c30835c5",
   "metadata": {},
   "outputs": [
    {
     "name": "stdout",
     "output_type": "stream",
     "text": [
      "The shape of x_train: (1760, 7)\n",
      "The shape of x_test: (440, 7)\n",
      "The shape of y_train: (1760,)\n",
      "The shape of y_test: (440,)\n"
     ]
    }
   ],
   "source": [
    "# Lets create Testing and Training Sets for Validation of results\n",
    "from sklearn.model_selection import train_test_split\n",
    "\n",
    "x_train,x_test,y_train,y_test = train_test_split(x,y,test_size=0.2, random_state=0)\n",
    "\n",
    "print(\"The shape of x_train:\", x_train.shape)\n",
    "print(\"The shape of x_test:\", x_test.shape)\n",
    "print(\"The shape of y_train:\", y_train.shape)\n",
    "print(\"The shape of y_test:\", y_test.shape)"
   ]
  },
  {
   "cell_type": "code",
   "execution_count": 21,
   "id": "f0364c73",
   "metadata": {},
   "outputs": [],
   "source": [
    "# create a predictive model\n",
    "from sklearn.linear_model import LogisticRegression\n",
    "\n",
    "model = LogisticRegression()\n",
    "model.fit(x_train, y_train)\n",
    "y_pred = model.predict(x_test)"
   ]
  },
  {
   "cell_type": "code",
   "execution_count": 22,
   "id": "78a6f8ce",
   "metadata": {},
   "outputs": [
    {
     "data": {
      "image/png": "[encoded data removed]",
      "text/plain": [
       "<Figure size 720x720 with 2 Axes>"
      ]
     },
     "metadata": {
      "needs_background": "light"
     },
     "output_type": "display_data"
    }
   ],
   "source": [
    "# Lets evaluate the model performance\n",
    "from sklearn.metrics import confusion_matrix\n",
    "\n",
    "# Lets print the confusion metrix first\n",
    "plt.rcParams['figure.figsize'] = (10,10)\n",
    "cm = confusion_matrix(y_test, y_pred)\n",
    "sns.heatmap(cm, annot = True, cmap= 'YlGnBu_r')\n",
    "plt.title(\"Confusion matrix for Logistic Regression:\", fontsize= 15)\n",
    "plt.show()"
   ]
  },
  {
   "cell_type": "code",
   "execution_count": 24,
   "id": "22631fbe",
   "metadata": {},
   "outputs": [
    {
     "name": "stdout",
     "output_type": "stream",
     "text": [
      "              precision    recall  f1-score   support\n",
      "\n",
      "       apple       1.00      1.00      1.00        18\n",
      "      banana       1.00      1.00      1.00        18\n",
      "   blackgram       0.86      0.82      0.84        22\n",
      "    chickpea       1.00      1.00      1.00        23\n",
      "     coconut       1.00      1.00      1.00        15\n",
      "      coffee       1.00      1.00      1.00        17\n",
      "      cotton       0.89      1.00      0.94        16\n",
      "      grapes       1.00      1.00      1.00        18\n",
      "        jute       0.84      1.00      0.91        21\n",
      " kidneybeans       1.00      1.00      1.00        20\n",
      "      lentil       0.94      0.94      0.94        17\n",
      "       maize       0.94      0.89      0.91        18\n",
      "       mango       1.00      1.00      1.00        21\n",
      "   mothbeans       0.88      0.92      0.90        25\n",
      "    mungbean       1.00      1.00      1.00        17\n",
      "   muskmelon       1.00      1.00      1.00        23\n",
      "      orange       1.00      1.00      1.00        23\n",
      "      papaya       1.00      0.95      0.98        21\n",
      "  pigeonpeas       1.00      1.00      1.00        22\n",
      " pomegranate       1.00      1.00      1.00        23\n",
      "        rice       1.00      0.84      0.91        25\n",
      "  watermelon       1.00      1.00      1.00        17\n",
      "\n",
      "    accuracy                           0.97       440\n",
      "   macro avg       0.97      0.97      0.97       440\n",
      "weighted avg       0.97      0.97      0.97       440\n",
      "\n"
     ]
    }
   ],
   "source": [
    "# Lets print the classification report\n",
    "from sklearn.metrics import classification_report\n",
    "cr = classification_report(y_test, y_pred)\n",
    "print(cr)"
   ]
  },
  {
   "cell_type": "code",
   "execution_count": null,
   "id": "d991dff9",
   "metadata": {},
   "outputs": [],
   "source": []
  },
  {
   "cell_type": "code",
   "execution_count": null,
   "id": "f0c77e0f",
   "metadata": {},
   "outputs": [],
   "source": []
  },
  {
   "cell_type": "code",
   "execution_count": null,
   "id": "374bb092",
   "metadata": {},
   "outputs": [],
   "source": []
  }
 ],
 "metadata": {
  "kernelspec": {
   "display_name": "Python 3 (ipykernel)",
   "language": "python",
   "name": "python3"
  },
  "language_info": {
   "codemirror_mode": {
    "name": "ipython",
    "version": 3
   },
   "file_extension": ".py",
   "mimetype": "text/x-python",
   "name": "python",
   "nbconvert_exporter": "python",
   "pygments_lexer": "ipython3",
   "version": "3.9.12"
  }
 },
 "nbformat": 4,
 "nbformat_minor": 5
}
